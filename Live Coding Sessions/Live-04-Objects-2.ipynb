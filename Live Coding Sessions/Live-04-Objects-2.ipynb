{
 "cells": [
  {
   "cell_type": "markdown",
   "metadata": {},
   "source": [
    "<div style=\"float:left\">\n",
    "    <h1 style=\"width:450px\">Live Coding 4: Object-Oriented Programming 2</h1>\n",
    "    <h2 style=\"width:450px\">Making Use of Packages and Functions</h2>\n",
    "</div>\n",
    "<div style=\"float:right\"><img width=\"100\" src=\"https://github.com/jreades/i2p/raw/master/img/casa_logo.jpg\" /></div>"
   ]
  },
  {
   "cell_type": "markdown",
   "metadata": {},
   "source": [
    "## Task 1: From Notebooks To...\n",
    "\n",
    "How do we take our work and use it in non-notebook contexts. Let's look at exporting notebooks for a moment via `File` > `Export Notebook As` > `...`. Depending on how you installed everything you will see a different range of options, the most interesting ones for our purposes are: \n",
    "1. To Executable Script -- this produces a `.py` file that can be run directly in Python. So now if you have done a lot of work in Jupyter and want to turn your work into something more like a traditional application, you can!\n",
    "- To PDF -- this passes through the intermediary of something called LaTeX, which is a very old, but very powerful type-setting 'language'. The quality of output makes Word look like it was designed for 7 year-olds, but getting that quality can be a huge pain.\n",
    "- To Markdown -- depending on the quality of your Markdown renderer this can be very good and very useful indeed.\n",
    "- To Reveal.js -- used to create web-compatible presentations. I've never quite got my head around reveal, but it's a common format for writing presentations using entirely Open Source software."
   ]
  },
  {
   "cell_type": "markdown",
   "metadata": {},
   "source": [
    "## Task 2: Picking Up Last Week...\n",
    "\n",
    "Recreating the `ds` data structure from last week... which we can do by copy+pasting the code into one block:"
   ]
  },
  {
   "cell_type": "markdown",
   "metadata": {},
   "source": [
    "#### Task 2.1: Download &amp; Convert to LoL"
   ]
  },
  {
   "cell_type": "code",
   "execution_count": 2,
   "metadata": {},
   "outputs": [
    {
     "name": "stdout",
     "output_type": "stream",
     "text": [
      "urlData has 101 rows and 11 columns.\n"
     ]
    }
   ],
   "source": [
    "from urllib.request import urlopen\n",
    "import csv \n",
    "\n",
    "# Given the info you were given above, what do you \n",
    "# think the value of 'url' should be? What\n",
    "# type of variable is it? int or string? \n",
    "url = 'https://raw.githubusercontent.com/jreades/fsds/master/data/2019-sample-crime.csv'\n",
    "\n",
    "# Read the URL stream into variable called 'response'\n",
    "# using the function that we imported above\n",
    "response = urlopen(url)\n",
    "\n",
    "# Now read from the stream, decoding so that we get actual text\n",
    "datafile = response.read().decode('utf-8')\n",
    "\n",
    "urlData = [] # Somewhere to store the data\n",
    "\n",
    "csvfile = csv.reader(datafile.splitlines())\n",
    "\n",
    "for row in csvfile:\n",
    "    urlData.append( row )\n",
    "\n",
    "print(f\"urlData has {len(urlData)} rows and {len(urlData[0])} columns.\")"
   ]
  },
  {
   "cell_type": "markdown",
   "metadata": {},
   "source": [
    "#### Task 2.2: Convert to DoL"
   ]
  },
  {
   "cell_type": "code",
   "execution_count": 3,
   "metadata": {},
   "outputs": [],
   "source": [
    "# Now convert this to a data structure!\n",
    "ds = {}\n",
    "\n",
    "# Column names as dictionary keys\n",
    "col_names = urlData[0]\n",
    "for c in col_names:\n",
    "    ds[c] = []"
   ]
  },
  {
   "cell_type": "code",
   "execution_count": 4,
   "metadata": {},
   "outputs": [
    {
     "name": "stdout",
     "output_type": "stream",
     "text": [
      "{'ID': [], 'Case Number': [], 'Date': [], 'Primary Type': [], 'Description': [], 'Location Description': [], 'Arrest': [], 'Domestic': [], 'Year': [], 'Latitude': [], 'Longitude': []}\n"
     ]
    }
   ],
   "source": [
    "print(ds)"
   ]
  },
  {
   "cell_type": "code",
   "execution_count": 5,
   "metadata": {},
   "outputs": [],
   "source": [
    "# Then values in a list attached to each key\n",
    "for row in urlData[1:]:\n",
    "    for c in range(0,len(col_names)):\n",
    "        #print(col_names[c])\n",
    "        ds[ col_names[c] ].append( row[c] )"
   ]
  },
  {
   "cell_type": "markdown",
   "metadata": {},
   "source": [
    "#### Task 2.3: Fix Data Types"
   ]
  },
  {
   "cell_type": "code",
   "execution_count": 6,
   "metadata": {},
   "outputs": [],
   "source": [
    "# Convert the raw data to data of the appropriate\n",
    "# type: 'column data' (cdata) -> 'column type' (ctype)\n",
    "def to_type(cdata, ctype):\n",
    "    fdata = []\n",
    "    for c in cdata:\n",
    "        try:\n",
    "            if ctype==bool:\n",
    "                fdata.append( c=='True' )\n",
    "            else:\n",
    "                fdata.append( ctype(c) )\n",
    "        except TypeError:\n",
    "            fdata.append( c )\n",
    "    return fdata\n",
    "\n",
    "# And here's my 'map' of column names\n",
    "# to column data types...\n",
    "cols = {\n",
    "    'Latitude':float,\n",
    "    'Longitude':float,\n",
    "    'ID':int,\n",
    "    'Year':int,\n",
    "    'Arrest':bool,\n",
    "    'Domestic':bool,\n",
    "    'Case Number':str,\n",
    "    'Date':str,\n",
    "    'Primary Type':str,\n",
    "    'Description':str,\n",
    "    'Location Description':str\n",
    "}\n",
    "\n",
    "# Now apply this!\n",
    "for k in ds.keys():\n",
    "    ds[ k ] = to_type(ds[k], cols[k])"
   ]
  },
  {
   "cell_type": "code",
   "execution_count": 7,
   "metadata": {},
   "outputs": [
    {
     "name": "stdout",
     "output_type": "stream",
     "text": [
      "ID              (int): 11667185, 11909178, 11852571, 11804855, 11808164\n",
      "Case Number     (str): JC237601, JC532226, JC462365, JC405161, JC409088\n",
      "Date            (str): 04/20/2019 11:00:00 PM, 12/02/2019 10:35:00 AM, 10/06/2019 04:50:00 PM, 08/23/2019 10:00:00 PM, 08/26/2019 12:00:00 AM\n",
      "Primary Type    (str): BURGLARY, DECEPTIVE PRACTICE, BATTERY, THEFT, BATTERY\n",
      "Description     (str): FORCIBLE ENTRY, FRAUD OR CONFIDENCE GAME, AGGRAVATED DOMESTIC BATTERY - OTHER DANGEROUS WEAPON, OVER $500, SIMPLE\n",
      "Location Description (str): COMMERCIAL / BUSINESS OFFICE, GROCERY FOOD STORE, CLEANING STORE, STREET, ALLEY\n",
      "Arrest          (bool): False, False, True, False, False\n",
      "Domestic        (bool): False, False, True, False, False\n",
      "Year            (int): 2019, 2019, 2019, 2019, 2019\n",
      "Latitude        (float): 41.751307057, 41.903996883000005, 41.880328606, 41.924383963000004, 41.755797128000005\n",
      "Longitude       (float): -87.60346764, -87.64323023799999, -87.758473298, -87.64144151299999, -87.634426259\n"
     ]
    }
   ],
   "source": [
    "# Check it worked by printout out the first few values \n",
    "# of each column type... \n",
    "for k, v in ds.items():\n",
    "    print(f\"{k:<15} ({type(v[0]).__name__}): \" + ', '.join(str(x) for x in v[:5]))\n",
    "    # Another way to do it...\n",
    "    # print(f\"{k}:\\t\" + \", \".join(map(str, v[:5])))"
   ]
  },
  {
   "cell_type": "markdown",
   "metadata": {},
   "source": [
    "## Task 3: Using Set, List, and Dictionary Functions\n",
    "\n",
    "- What are the distinct Primary Types?\n",
    "- How many Narcotics charges are there?\n",
    "- Creating an Index for updating/inserting? "
   ]
  },
  {
   "cell_type": "markdown",
   "metadata": {},
   "source": [
    "#### Task 3.1: Distinct Types\n",
    "\n",
    "Using set to create a categorical data type."
   ]
  },
  {
   "cell_type": "code",
   "execution_count": 9,
   "metadata": {},
   "outputs": [
    {
     "name": "stdout",
     "output_type": "stream",
     "text": [
      "{1, 2, 3}\n"
     ]
    }
   ],
   "source": [
    "s = set([1,2,2,2,2,3])\n",
    "print(s)"
   ]
  },
  {
   "cell_type": "code",
   "execution_count": 18,
   "metadata": {},
   "outputs": [
    {
     "name": "stdout",
     "output_type": "stream",
     "text": [
      "{'CRIMINAL SEXUAL ASSAULT', 'OTHER OFFENSE', 'BURGLARY', 'STALKING', 'ASSAULT', 'MOTOR VEHICLE THEFT', 'CRIMINAL DAMAGE', 'ROBBERY', 'SEX OFFENSE', 'BATTERY', 'INTERFERENCE WITH PUBLIC OFFICER', 'NARCOTICS', 'DECEPTIVE PRACTICE', 'THEFT', 'WEAPONS VIOLATION'}\n"
     ]
    }
   ],
   "source": [
    "s = set(ds['Primary Type'])\n",
    "print(s)"
   ]
  },
  {
   "cell_type": "markdown",
   "metadata": {},
   "source": [
    "And maybe use string methods to make these a little prettier:"
   ]
  },
  {
   "cell_type": "code",
   "execution_count": 10,
   "metadata": {},
   "outputs": [
    {
     "data": {
      "text/plain": [
       "['BURGLARY',\n",
       " 'DECEPTIVE PRACTICE',\n",
       " 'BATTERY',\n",
       " 'THEFT',\n",
       " 'BATTERY',\n",
       " 'THEFT',\n",
       " 'NARCOTICS',\n",
       " 'THEFT',\n",
       " 'THEFT',\n",
       " 'CRIMINAL DAMAGE',\n",
       " 'ASSAULT',\n",
       " 'BURGLARY',\n",
       " 'CRIMINAL DAMAGE',\n",
       " 'OTHER OFFENSE',\n",
       " 'NARCOTICS',\n",
       " 'STALKING',\n",
       " 'DECEPTIVE PRACTICE',\n",
       " 'BATTERY',\n",
       " 'CRIMINAL DAMAGE',\n",
       " 'BATTERY',\n",
       " 'THEFT',\n",
       " 'THEFT',\n",
       " 'MOTOR VEHICLE THEFT',\n",
       " 'DECEPTIVE PRACTICE',\n",
       " 'BURGLARY',\n",
       " 'THEFT',\n",
       " 'THEFT',\n",
       " 'BURGLARY',\n",
       " 'THEFT',\n",
       " 'ASSAULT',\n",
       " 'NARCOTICS',\n",
       " 'ASSAULT',\n",
       " 'THEFT',\n",
       " 'THEFT',\n",
       " 'THEFT',\n",
       " 'NARCOTICS',\n",
       " 'OTHER OFFENSE',\n",
       " 'BATTERY',\n",
       " 'MOTOR VEHICLE THEFT',\n",
       " 'THEFT',\n",
       " 'THEFT',\n",
       " 'BATTERY',\n",
       " 'THEFT',\n",
       " 'CRIMINAL DAMAGE',\n",
       " 'DECEPTIVE PRACTICE',\n",
       " 'CRIMINAL DAMAGE',\n",
       " 'DECEPTIVE PRACTICE',\n",
       " 'THEFT',\n",
       " 'WEAPONS VIOLATION',\n",
       " 'BURGLARY',\n",
       " 'THEFT',\n",
       " 'NARCOTICS',\n",
       " 'MOTOR VEHICLE THEFT',\n",
       " 'BATTERY',\n",
       " 'DECEPTIVE PRACTICE',\n",
       " 'OTHER OFFENSE',\n",
       " 'SEX OFFENSE',\n",
       " 'THEFT',\n",
       " 'WEAPONS VIOLATION',\n",
       " 'CRIMINAL SEXUAL ASSAULT',\n",
       " 'THEFT',\n",
       " 'THEFT',\n",
       " 'BATTERY',\n",
       " 'BATTERY',\n",
       " 'BATTERY',\n",
       " 'BURGLARY',\n",
       " 'THEFT',\n",
       " 'ROBBERY',\n",
       " 'THEFT',\n",
       " 'THEFT',\n",
       " 'INTERFERENCE WITH PUBLIC OFFICER',\n",
       " 'ASSAULT',\n",
       " 'BATTERY',\n",
       " 'THEFT',\n",
       " 'OTHER OFFENSE',\n",
       " 'NARCOTICS',\n",
       " 'BATTERY',\n",
       " 'THEFT',\n",
       " 'BATTERY',\n",
       " 'BATTERY',\n",
       " 'THEFT',\n",
       " 'OTHER OFFENSE',\n",
       " 'BURGLARY',\n",
       " 'MOTOR VEHICLE THEFT',\n",
       " 'THEFT',\n",
       " 'OTHER OFFENSE',\n",
       " 'BURGLARY',\n",
       " 'INTERFERENCE WITH PUBLIC OFFICER',\n",
       " 'OTHER OFFENSE',\n",
       " 'ASSAULT',\n",
       " 'ROBBERY',\n",
       " 'OTHER OFFENSE',\n",
       " 'ASSAULT',\n",
       " 'ASSAULT',\n",
       " 'BATTERY',\n",
       " 'ASSAULT',\n",
       " 'BATTERY',\n",
       " 'ASSAULT',\n",
       " 'THEFT',\n",
       " 'NARCOTICS']"
      ]
     },
     "execution_count": 10,
     "metadata": {},
     "output_type": "execute_result"
    }
   ],
   "source": [
    "ds['Primary Type']"
   ]
  },
  {
   "cell_type": "code",
   "execution_count": 11,
   "metadata": {},
   "outputs": [
    {
     "data": {
      "text/plain": [
       "['Burglary',\n",
       " 'Deceptive practice',\n",
       " 'Battery',\n",
       " 'Theft',\n",
       " 'Battery',\n",
       " 'Theft',\n",
       " 'Narcotics',\n",
       " 'Theft',\n",
       " 'Theft',\n",
       " 'Criminal damage',\n",
       " 'Assault',\n",
       " 'Burglary',\n",
       " 'Criminal damage',\n",
       " 'Other offense',\n",
       " 'Narcotics',\n",
       " 'Stalking',\n",
       " 'Deceptive practice',\n",
       " 'Battery',\n",
       " 'Criminal damage',\n",
       " 'Battery',\n",
       " 'Theft',\n",
       " 'Theft',\n",
       " 'Motor vehicle theft',\n",
       " 'Deceptive practice',\n",
       " 'Burglary',\n",
       " 'Theft',\n",
       " 'Theft',\n",
       " 'Burglary',\n",
       " 'Theft',\n",
       " 'Assault',\n",
       " 'Narcotics',\n",
       " 'Assault',\n",
       " 'Theft',\n",
       " 'Theft',\n",
       " 'Theft',\n",
       " 'Narcotics',\n",
       " 'Other offense',\n",
       " 'Battery',\n",
       " 'Motor vehicle theft',\n",
       " 'Theft',\n",
       " 'Theft',\n",
       " 'Battery',\n",
       " 'Theft',\n",
       " 'Criminal damage',\n",
       " 'Deceptive practice',\n",
       " 'Criminal damage',\n",
       " 'Deceptive practice',\n",
       " 'Theft',\n",
       " 'Weapons violation',\n",
       " 'Burglary',\n",
       " 'Theft',\n",
       " 'Narcotics',\n",
       " 'Motor vehicle theft',\n",
       " 'Battery',\n",
       " 'Deceptive practice',\n",
       " 'Other offense',\n",
       " 'Sex offense',\n",
       " 'Theft',\n",
       " 'Weapons violation',\n",
       " 'Criminal sexual assault',\n",
       " 'Theft',\n",
       " 'Theft',\n",
       " 'Battery',\n",
       " 'Battery',\n",
       " 'Battery',\n",
       " 'Burglary',\n",
       " 'Theft',\n",
       " 'Robbery',\n",
       " 'Theft',\n",
       " 'Theft',\n",
       " 'Interference with public officer',\n",
       " 'Assault',\n",
       " 'Battery',\n",
       " 'Theft',\n",
       " 'Other offense',\n",
       " 'Narcotics',\n",
       " 'Battery',\n",
       " 'Theft',\n",
       " 'Battery',\n",
       " 'Battery',\n",
       " 'Theft',\n",
       " 'Other offense',\n",
       " 'Burglary',\n",
       " 'Motor vehicle theft',\n",
       " 'Theft',\n",
       " 'Other offense',\n",
       " 'Burglary',\n",
       " 'Interference with public officer',\n",
       " 'Other offense',\n",
       " 'Assault',\n",
       " 'Robbery',\n",
       " 'Other offense',\n",
       " 'Assault',\n",
       " 'Assault',\n",
       " 'Battery',\n",
       " 'Assault',\n",
       " 'Battery',\n",
       " 'Assault',\n",
       " 'Theft',\n",
       " 'Narcotics']"
      ]
     },
     "execution_count": 11,
     "metadata": {},
     "output_type": "execute_result"
    }
   ],
   "source": [
    "[str(x).capitalize() for x in ds['Primary Type']]"
   ]
  },
  {
   "cell_type": "code",
   "execution_count": 19,
   "metadata": {},
   "outputs": [
    {
     "name": "stdout",
     "output_type": "stream",
     "text": [
      "{'Sex offense', 'Criminal damage', 'Theft', 'Robbery', 'Assault', 'Motor vehicle theft', 'Battery', 'Other offense', 'Deceptive practice', 'Weapons violation', 'Criminal sexual assault', 'Interference with public officer', 'Burglary', 'Narcotics', 'Stalking'}\n"
     ]
    }
   ],
   "source": [
    "s = set([str(x).capitalize() for x in ds['Primary Type']])\n",
    "print(s)"
   ]
  },
  {
   "cell_type": "markdown",
   "metadata": {},
   "source": [
    "#### Task 3.2: Find All Matches\n",
    "\n",
    "How would be find not just the first `index()` but all that match?\n",
    "\n",
    "- [Google it](https://www.google.com/search?q=python3+find+all+index+of+element+in+list&rlz=1C5CHFA_enGB917GB917&oq=python3+find+all+indexes+of&aqs=chrome.2.69i57j33l3.8922j0j4&sourceid=chrome&ie=UTF-8)\n",
    "- [Looks promising](https://stackoverflow.com/questions/6294179/how-to-find-all-occurrences-of-an-element-in-a-list) _[Note that one solution uses a list comprehension and the other numpy]_"
   ]
  },
  {
   "cell_type": "code",
   "execution_count": 23,
   "metadata": {},
   "outputs": [
    {
     "name": "stdout",
     "output_type": "stream",
     "text": [
      "[6, 14, 30, 35, 51, 75, 99]\n"
     ]
    }
   ],
   "source": [
    "# Paste in solution as template\n",
    "# indices = [i for i, x in enumerate(my_list) if x == \"whatever\"]\n",
    "# Now we need to modify it for our purposes\n",
    "\n",
    "target = 'NARCOTICS'\n",
    "indices = [i for i, x in enumerate(ds2['Primary Type']) if x == target]\n",
    "print(indices)"
   ]
  },
  {
   "cell_type": "code",
   "execution_count": 24,
   "metadata": {},
   "outputs": [],
   "source": [
    "# We can't do this as a slice, so for loop necessary\n",
    "result = {}\n",
    "\n",
    "# Create empty result set\n",
    "for c in col_names:\n",
    "    result[c] = []\n",
    "\n",
    "# Notice how much simpler this is than \n",
    "# when we had a list-of-lists\n",
    "for i in indices:\n",
    "    for c in col_names:\n",
    "        result[ c ].append( ds2[c][i] )\n",
    "\n",
    "# But this is *still* slower than just using grep!"
   ]
  },
  {
   "cell_type": "code",
   "execution_count": 25,
   "metadata": {},
   "outputs": [
    {
     "name": "stdout",
     "output_type": "stream",
     "text": [
      "ID:\t[11826687, 11669330, 11855998, 11622744, 11592042, 11807399, 11648994]\n",
      "Case Number:\t['JC431308', 'JC241440', 'JC466763', 'JC113884', 'JC147807', 'JC408479', 'JC217114']\n",
      "Date:\t['09/13/2019 07:57:00 AM', '04/28/2019 09:38:00 AM', '10/09/2019 08:48:00 PM', '01/12/2019 09:03:00 AM', '02/11/2019 01:12:00 AM', '08/26/2019 05:41:00 PM', '04/08/2019 11:10:00 PM']\n",
      "Primary Type:\t['NARCOTICS', 'NARCOTICS', 'NARCOTICS', 'NARCOTICS', 'NARCOTICS', 'NARCOTICS', 'NARCOTICS']\n",
      "Description:\t['POSSESSION OF DRUG EQUIPMENT', 'POSS: CANNABIS 30GMS OR LESS', 'POSS: PCP', 'MANU/DELIVER:SYNTHETIC DRUGS', 'POSS: CANNABIS 30GMS OR LESS', 'MANU/DELIVER: HEROIN (WHITE)', 'MANU/DELIVER: HEROIN (WHITE)']\n",
      "Location Description:\t['ALLEY', 'SIDEWALK', 'CTA BUS STOP', 'GROCERY FOOD STORE', 'STREET', 'APARTMENT', 'ABANDONED BUILDING']\n",
      "Arrest:\t[True, True, True, True, True, True, True]\n",
      "Domestic:\t[False, False, False, False, False, False, False]\n",
      "Year:\t[2019, 2019, 2019, 2019, 2019, 2019, 2019]\n",
      "Latitude:\t[41.89036711, 41.901705423, 41.873115002, 41.880715605, 41.7791416, 41.877998966999996, 41.877933236]\n",
      "Longitude:\t[-87.626673634, -87.71652681200001, -87.74566497100001, -87.726481891, -87.691591137, -87.723922524, -87.729141019]\n"
     ]
    }
   ],
   "source": [
    "# Check result\n",
    "for c in result.keys():\n",
    "    print(f\"{c}:\\t{result[c]}\")"
   ]
  },
  {
   "cell_type": "markdown",
   "metadata": {},
   "source": [
    "## Task 4: Using an Index\n",
    "\n",
    "Logically, we think of an 'index' as something unique to each row. Such that if we see the same value elsewhere in the data we assume that the existing values should be overwritten, or that there is a problem with the data!\n",
    "\n",
    "- So what would be the index in this case?\n",
    "- How might we 'remember' this?"
   ]
  },
  {
   "cell_type": "code",
   "execution_count": 16,
   "metadata": {},
   "outputs": [],
   "source": [
    "idx = 'ID' # Index Column"
   ]
  },
  {
   "cell_type": "markdown",
   "metadata": {},
   "source": [
    "#### Task 4.1: Updating a Record"
   ]
  },
  {
   "cell_type": "code",
   "execution_count": 14,
   "metadata": {},
   "outputs": [],
   "source": [
    "new_record = ['11622744','JC113844','11/30/2019 07:00:00 AM','ROBBERY',\n",
    "              'POSSESSION OF DRUG EQUIPMENT','SIDEWALK','True','False',\n",
    "              '2020','41.5000000','-87.50000000']"
   ]
  },
  {
   "cell_type": "markdown",
   "metadata": {},
   "source": [
    "So perhaps we can use our `to_type` function?"
   ]
  },
  {
   "cell_type": "code",
   "execution_count": null,
   "metadata": {},
   "outputs": [],
   "source": [
    "# Convert the raw data to data of the appropriate\n",
    "# type: 'column data' (cdata) -> 'column type' (ctype)\n",
    "def to_type(cdata, ctype):\n",
    "    fdata = []\n",
    "    for c in cdata:\n",
    "        try:\n",
    "            if ctype==bool:\n",
    "                fdata.append( c=='True' )\n",
    "            else:\n",
    "                fdata.append( ctype(c) )\n",
    "        except TypeError:\n",
    "            fdata.append( c )\n",
    "    return fdata"
   ]
  },
  {
   "cell_type": "code",
   "execution_count": 39,
   "metadata": {},
   "outputs": [
    {
     "name": "stdout",
     "output_type": "stream",
     "text": [
      "11622744\n",
      "['1', '1', '6', '2', '2', '7', '4', '4']\n"
     ]
    },
    {
     "ename": "ValueError",
     "evalue": "['1', '1', '6', '2', '2', '7', '4', '4'] is not in list",
     "output_type": "error",
     "traceback": [
      "\u001b[0;31m---------------------------------------------------------------------------\u001b[0m",
      "\u001b[0;31mValueError\u001b[0m                                Traceback (most recent call last)",
      "\u001b[0;32m<ipython-input-39-c0b48ee3e50d>\u001b[0m in \u001b[0;36m<module>\u001b[0;34m\u001b[0m\n\u001b[1;32m      3\u001b[0m \u001b[0mlkp\u001b[0m \u001b[0;34m=\u001b[0m \u001b[0mto_type\u001b[0m\u001b[0;34m(\u001b[0m\u001b[0mnew_record\u001b[0m\u001b[0;34m[\u001b[0m \u001b[0mcol_names\u001b[0m\u001b[0;34m.\u001b[0m\u001b[0mindex\u001b[0m\u001b[0;34m(\u001b[0m\u001b[0midx\u001b[0m\u001b[0;34m)\u001b[0m \u001b[0;34m]\u001b[0m\u001b[0;34m,\u001b[0m \u001b[0;34m'int'\u001b[0m\u001b[0;34m)\u001b[0m\u001b[0;34m\u001b[0m\u001b[0;34m\u001b[0m\u001b[0m\n\u001b[1;32m      4\u001b[0m \u001b[0mprint\u001b[0m\u001b[0;34m(\u001b[0m\u001b[0mlkp\u001b[0m\u001b[0;34m)\u001b[0m\u001b[0;34m\u001b[0m\u001b[0;34m\u001b[0m\u001b[0m\n\u001b[0;32m----> 5\u001b[0;31m \u001b[0mprint\u001b[0m\u001b[0;34m(\u001b[0m\u001b[0mds\u001b[0m\u001b[0;34m[\u001b[0m\u001b[0midx\u001b[0m\u001b[0;34m]\u001b[0m\u001b[0;34m.\u001b[0m\u001b[0mindex\u001b[0m\u001b[0;34m(\u001b[0m\u001b[0mlkp\u001b[0m\u001b[0;34m)\u001b[0m\u001b[0;34m)\u001b[0m\u001b[0;34m\u001b[0m\u001b[0;34m\u001b[0m\u001b[0m\n\u001b[0m",
      "\u001b[0;31mValueError\u001b[0m: ['1', '1', '6', '2', '2', '7', '4', '4'] is not in list"
     ]
    }
   ],
   "source": [
    "# Find the index\n",
    "print(new_record[ col_names.index(idx) ])\n",
    "lkp = to_type(new_record[ col_names.index(idx) ], 'int')\n",
    "print(lkp)\n",
    "print(ds[idx].index(lkp))"
   ]
  },
  {
   "cell_type": "markdown",
   "metadata": {},
   "source": [
    "Why doesn't that work? \n",
    "\n",
    "- Look at the function... \n",
    "- Note that is _assumes_ all input is a list!\n",
    "- So we need to make it more generic\n",
    "- How do we [check if something is a string](https://www.google.com/search?q=check+if+variable+is+string+python&rlz=1C5CHFA_enGB917GB917&oq=check+if+variable+is+string+python&aqs=chrome..69i57j0l7.4572j0j7&sourceid=chrome&ie=UTF-8)? "
   ]
  },
  {
   "cell_type": "code",
   "execution_count": 11,
   "metadata": {},
   "outputs": [],
   "source": [
    "def to_type(cdata, ctype):\n",
    "    # If a string\n",
    "    if isinstance(cdata, str):\n",
    "        try:\n",
    "            if ctype==bool:\n",
    "                return cdata==True\n",
    "            else:\n",
    "                return ctype(cdata)\n",
    "        except TypeError:\n",
    "            return cdata\n",
    "    \n",
    "    # Not a string (assume list)\n",
    "    else: \n",
    "        fdata = []\n",
    "        for c in cdata:\n",
    "            try:\n",
    "                if ctype==bool:\n",
    "                    fdata.append( c=='True' )\n",
    "                else:\n",
    "                    fdata.append( ctype(c) )\n",
    "            except:\n",
    "                fdata.append( c )\n",
    "        return fdata\n",
    "    \n",
    "    return fdata"
   ]
  },
  {
   "cell_type": "code",
   "execution_count": 12,
   "metadata": {},
   "outputs": [],
   "source": [
    "# And here's my 'map' of column names\n",
    "# to column data types...\n",
    "col_map = {\n",
    "    'Latitude':float,\n",
    "    'Longitude':float,\n",
    "    'ID':int,\n",
    "    'Year':int,\n",
    "    'Arrest':bool,\n",
    "    'Domestic':bool,\n",
    "    'Case Number':str,\n",
    "    'Date':str,\n",
    "    'Primary Type':str,\n",
    "    'Description':str,\n",
    "    'Location Description':str\n",
    "}"
   ]
  },
  {
   "cell_type": "code",
   "execution_count": 18,
   "metadata": {},
   "outputs": [
    {
     "name": "stdout",
     "output_type": "stream",
     "text": [
      "11622744\n",
      "Index is: 35\n",
      "\tID              -> 11622744\n",
      "\tCase Number     -> JC113884\n",
      "\tDate            -> 01/12/2019 09:03:00 AM\n",
      "\tPrimary Type    -> NARCOTICS\n",
      "\tDescription     -> MANU/DELIVER:SYNTHETIC DRUGS\n",
      "\tLocation Description -> GROCERY FOOD STORE\n",
      "\tArrest          -> True\n",
      "\tDomestic        -> False\n",
      "\tYear            -> 2019\n",
      "\tLatitude        -> 41.880715605\n",
      "\tLongitude       -> -87.726481891\n"
     ]
    }
   ],
   "source": [
    "# Find the index\n",
    "print(new_record[ col_names.index(idx) ])\n",
    "\n",
    "# What's going on in this next line? Can't figure it out? Print out the parts!\n",
    "lkp  = to_type(new_record[ col_names.index(idx) ], col_map[idx])\n",
    "\n",
    "# Now find the Index Row so that we can update\n",
    "idxr = ds[idx].index(lkp)\n",
    "print(f\"Index is: {idxr}\")\n",
    "\n",
    "# Output the record\n",
    "for c in ds.keys():\n",
    "    print(f\"\\t{c:<20} -> {ds[c][idxr]}\")"
   ]
  },
  {
   "cell_type": "markdown",
   "metadata": {},
   "source": [
    "What's there now?"
   ]
  },
  {
   "cell_type": "markdown",
   "metadata": {},
   "source": [
    "And now for the update!"
   ]
  },
  {
   "cell_type": "code",
   "execution_count": 19,
   "metadata": {},
   "outputs": [
    {
     "name": "stdout",
     "output_type": "stream",
     "text": [
      "ID\n",
      "\t11622744\n",
      "\t11622744\n",
      "Case Number\n",
      "\tJC113884\n",
      "\tJC113844\n",
      "Date\n",
      "\t01/12/2019 09:03:00 AM\n",
      "\t11/30/2019 07:00:00 AM\n",
      "Primary Type\n",
      "\tNARCOTICS\n",
      "\tROBBERY\n",
      "Description\n",
      "\tMANU/DELIVER:SYNTHETIC DRUGS\n",
      "\tPOSSESSION OF DRUG EQUIPMENT\n",
      "Location Description\n",
      "\tGROCERY FOOD STORE\n",
      "\tSIDEWALK\n",
      "Arrest\n",
      "\tTrue\n",
      "\tTrue\n",
      "Domestic\n",
      "\tFalse\n",
      "\tFalse\n",
      "Year\n",
      "\t2019\n",
      "\t2020\n",
      "Latitude\n",
      "\t41.880715605\n",
      "\t41.5000000\n",
      "Longitude\n",
      "\t-87.726481891\n",
      "\t-87.50000000\n"
     ]
    }
   ],
   "source": [
    "# How would we know that the update were working...\n",
    "# print out the Key, Original Value, and New Value!\n",
    "for cid in range(0,len(col_names)):\n",
    "    print(col_names[cid])\n",
    "    print(\"\\t\" + str(ds[col_names[cid]][idxr]))\n",
    "    print(\"\\t\" + str(new_record[cid]))"
   ]
  },
  {
   "cell_type": "code",
   "execution_count": 57,
   "metadata": {},
   "outputs": [],
   "source": [
    "# And now the update\n",
    "for cid in range(0,len(col_names)):\n",
    "    ds[col_names[cid]][idxr] = to_type(new_record[cid], col_map[col_names[cid]])"
   ]
  },
  {
   "cell_type": "code",
   "execution_count": 20,
   "metadata": {},
   "outputs": [
    {
     "name": "stdout",
     "output_type": "stream",
     "text": [
      "                  ID\t->\t11622744\n",
      "         Case Number\t->\tJC113884\n",
      "                Date\t->\t01/12/2019 09:03:00 AM\n",
      "        Primary Type\t->\tNARCOTICS\n",
      "         Description\t->\tMANU/DELIVER:SYNTHETIC DRUGS\n",
      "Location Description\t->\tGROCERY FOOD STORE\n",
      "              Arrest\t->\tTrue\n",
      "            Domestic\t->\tFalse\n",
      "                Year\t->\t2019\n",
      "            Latitude\t->\t41.880715605\n",
      "           Longitude\t->\t-87.726481891\n"
     ]
    }
   ],
   "source": [
    "# Check the updated record\n",
    "for c in ds.keys():\n",
    "    print(f\"{c:>20}\\t->\\t{ds[c][idxr]}\")"
   ]
  },
  {
   "cell_type": "markdown",
   "metadata": {},
   "source": [
    "#### Task 4.2 (Optional): Creating Functions from Code\n",
    "\n",
    "- Turn the 'find value in index' code into a function\n",
    "- Turn the 'update value based on index' code into a function\n",
    "- Create an 'add row' function"
   ]
  }
 ],
 "metadata": {
  "kernelspec": {
   "display_name": "Python 3 (ipykernel)",
   "language": "python",
   "name": "python3"
  },
  "language_info": {
   "codemirror_mode": {
    "name": "ipython",
    "version": 3
   },
   "file_extension": ".py",
   "mimetype": "text/x-python",
   "name": "python",
   "nbconvert_exporter": "python",
   "pygments_lexer": "ipython3",
   "version": "3.10.5"
  }
 },
 "nbformat": 4,
 "nbformat_minor": 4
}
