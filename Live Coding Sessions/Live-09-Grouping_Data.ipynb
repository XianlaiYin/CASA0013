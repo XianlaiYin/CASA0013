{
 "cells": [
  {
   "cell_type": "markdown",
   "id": "7c50e15f-f150-4959-8594-c1133f382122",
   "metadata": {},
   "source": [
    "<div style=\"float:left\">\n",
    "    <h1 style=\"width:500px\">Live Coding 9: Grouping Data</h1>\n",
    "    <h2 style=\"width:450px\">Dealing with similarity and difference</h2>\n",
    "</div>\n",
    "<div style=\"float:right\"><img width=\"100\" src=\"https://github.com/jreades/i2p/raw/master/img/casa_logo.jpg\" /></div>"
   ]
  },
  {
   "cell_type": "markdown",
   "id": "a64f8a67-030d-4a93-814a-5974f31613ca",
   "metadata": {},
   "source": [
    "## Week 9: Thoughts\n",
    "\n",
    "- First, you should be taking away the *fundamental* links between what we do when we make maps and what we do when we make plots in order to *understand* our data or models. Classifying observations based on the distribution is conceptually very closely aligned with classifying observations based on a label.\n",
    "- Second, you should be taking away the *difference* between classification and clustering (see [Problem Domains](#Problem-Domains)); why one is called 'supervised' and the other 'unsupervised'.\n",
    "- Third, you should be bearing in mind the *difference* between what we might call top-down and bottom-up clustering algorithms.\n",
    "- Fourth, you should be *understanding* that how you present and understand your data is *inseperable* from how you organise the analysis in terms of classification, clustering, and so forth.\n",
    "- Learning to code:\n",
    "  - Have said before: doing data science is about judgement.\n",
    "  - Sometimes the practicals show techniques because I want you to see how they work, not because they are always the best choice on the data we're looking at.\n",
    "  - For instance: \n",
    "    - We've seen many ways of potentially cleaning the InsideAirbnb data (outliers based on price per night, descriptive text or its absence), but I've never put it all together in one place nor have I ever attempted to reconcile all the different steps.\n",
    "    - I've also performed *both* PCA *and* UMAP dimensionality reduction and this week you'll see two clustering algorithms as well as a classifier, but I've not (and won't) attempt to tell you which is 'correct' -- there are simply choices to make and justify.\n",
    "    - In the practical this week there is a question about using the *mean* and the *median* price by MSOA as part of the clustering process: I ask a question about why *might* it be useful to feed both of these into the clustering algorithm. Note the emphasis on *might*. There are also some very compelling reasons *not* to do this, so the argument *against* doing this is that we're effectively giving pricing information *two votes* in the cluster assignment process -- first the mean, then the median -- and this risks outweighing everything else we know from the UMAP and PCA dimensionality reduction process. And its impact is particularly strong on the UMAP process because that is only two dimensions: i.e. two votes. *But* you also have to take into account the magnitude of each dimension! This is *hard* and it requires *effort* to think through the implications of your choices around normalisation/standardisation together with what dimensions *matter* to the clustering process!\n",
    "    - In the practicals we often use these techniques without justifying them analytically or theoretically: this is why I spend so much time asking you to *be* critical in your approach to data! Without that critical perspective, you simply apply stuff 'because it's what we did in class', not because 'it's the right choice given the analytical need and the data we're looking at'.\n",
    "  - So do not take it as 'given' that if you repeat exactly something that was in a practical then that is the 'right thing to do' -- you absolutely *should* feel free to make use of the code provided in the practicals, but you should think of it as remixing, not copying+pasting. Take what you've learned and work out how to apply it."
   ]
  },
  {
   "cell_type": "markdown",
   "id": "aa728d6c-05d3-4470-a497-3a4599a868c9",
   "metadata": {},
   "source": [
    "## Assessments 2 & 3\n",
    "\n",
    "- BibTex\n",
    "  - Start with the [one in my repo](https://github.com/jreades/fsds/blob/master/bib/Readings.bib).\n",
    "  - Can open in BibDesk (Mac) or JabRef (x-platform)\n",
    "  - Adding:\n",
    "    - Google Scholar, then `Import into BibTeX`, then select and copy the record from the browser pop-up.\n",
    "    - With BibDesk: `Publication` > `New Publication from Clipboard`\n",
    "    - With JabRef: `New Article` (`+`) > `BibTex source` > `Paste`\n",
    "    - **Do not assume that the Google Scholar entry is 100% correct and you may want to chan ge to the Citation Key!**\n",
    "- External py and data files\n",
    "  - The textual library download offers a model for doing this with code. \n",
    "  - Use OneDrive or Dropbox for additional data unless you are *sure* that direct downloads will work.\n",
    "    - In the description/comments indicate the original source of your data.\n",
    "    - Link to documentation/DTD where appropriate.\n",
    "    - Do not put in Git!\n",
    "  - Be considerate: if you use external data don't repeatedly download large data sets\n",
    "    - Either save to your own Dropbox/OneDrive (see above)\n",
    "    - Or only download *once* and then check for its extistence locally (again, you have code to do this already!)\n",
    "- Adding 'new' libraries\n",
    "  - Can use a try/except block to be user-friendly\n",
    "  - May want to check what version (`<module>.__version__` usually works)\n",
    "- Adding others to a repo\n",
    "  - You will need to set up a project repo for the group submission.\n",
    "- Conflicts in Git\n",
    "  - Easy to deal with in text and PY files, hard in Notebooks, impossible in Word or other binary formats.\n",
    "  - See some examples for how to find what's 'wrong' [here](https://stackoverflow.com/questions/1800783/how-to-compare-a-local-git-branch-with-its-remote-branch) (*hint*: `git fetch` then `git diff master origin/master` [or main if that's how you set it up])."
   ]
  },
  {
   "cell_type": "markdown",
   "id": "20d8f702-ff9f-4506-bc49-276f9e502952",
   "metadata": {},
   "source": [
    "## Other Admin\n",
    "\n",
    "- Initial feedback on audit\n",
    "- Readings:\n",
    "  - D’Ignazio and Klein (2020), chap. 3, On Rational, Scientific, Objective Viewpoints from Mythical, Imaginary, Impossible Standpoints <[URL](https://ucl.primo.exlibrisgroup.com/discovery/fulldisplay?docid=alma9931206723604761&context=L&vid=44UCL_INST:UCL_VU2&lang=en&search_scope=UCLLibraryCatalogue&adaptor=Local%20Search%20Engine&isFrbr=true&tab=UCLLibraryCatalogue&query=any,contains,D%5C%27Ignazio%20Data%20Feminism&sortby=date_d&facet=frbrgroupid,include,9041340239229546206&offset=0)>\n",
    "  - Badger, Bui, and Gebeloff (2019) <[URL](https://www.nytimes.com/interactive/2019/04/27/upshot/diversity-housing-maps-raleigh-gentrification.html)>\n",
    "  - Massey (1996) <[URL](https://www.tandfonline.com/doi/abs/10.1080/14702549608554458)>"
   ]
  },
  {
   "cell_type": "markdown",
   "id": "f900143d-9ac8-410b-a18e-79a2f71fc112",
   "metadata": {},
   "source": [
    "## Problem Domains\n",
    "\n",
    "|       | Continuous | Categorical |\n",
    "| :---- | :--------- | :---------- |\n",
    "| **Supervised** | Regression | Classification |\n",
    "| **Unsupervised** | Dimensionality Reduction | Clustering |\n"
   ]
  },
  {
   "cell_type": "markdown",
   "id": "2b81651e-5fd9-45c2-992f-95685dc8022f",
   "metadata": {},
   "source": [
    "## Installing a Module"
   ]
  },
  {
   "cell_type": "code",
   "execution_count": 3,
   "id": "f754ffda-459e-460d-9da1-cd03be5ab541",
   "metadata": {},
   "outputs": [
    {
     "name": "stdout",
     "output_type": "stream",
     "text": [
      "\u001b[31mERROR: Could not find a version that satisfies the requirement foo (from versions: none)\u001b[0m\u001b[31m\n",
      "\u001b[0m\u001b[31mERROR: No matching distribution found for foo\u001b[0m\u001b[31m\n",
      "\u001b[0m"
     ]
    }
   ],
   "source": [
    "try:\n",
    "    import foo\n",
    "except ModuleNotFoundError:\n",
    "    ! pip install foo"
   ]
  }
 ],
 "metadata": {
  "kernelspec": {
   "display_name": "Python 3 (ipykernel)",
   "language": "python",
   "name": "python3"
  },
  "language_info": {
   "codemirror_mode": {
    "name": "ipython",
    "version": 3
   },
   "file_extension": ".py",
   "mimetype": "text/x-python",
   "name": "python",
   "nbconvert_exporter": "python",
   "pygments_lexer": "ipython3",
   "version": "3.10.5"
  }
 },
 "nbformat": 4,
 "nbformat_minor": 5
}
