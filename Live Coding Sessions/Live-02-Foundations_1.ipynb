{
 "cells": [
  {
   "cell_type": "markdown",
   "metadata": {},
   "source": [
    "<div style=\"float:left\">\n",
    "    <h1 style=\"width:450px\">Live Coding 2: Foundations (Part 1)</h1>\n",
    "    <h2 style=\"width:450px\">Getting to grips with the 'Basics'</h2>\n",
    "</div>\n",
    "<div style=\"float:right\"><img width=\"100\" src=\"https://github.com/jreades/i2p/raw/master/img/casa_logo.jpg\" /></div>"
   ]
  },
  {
   "cell_type": "markdown",
   "metadata": {},
   "source": [
    "## Context\n",
    "\n",
    "We're going to start out with the live coding and practical sessions potentially looking quite different, but that's because I don't think you all need to spend 60-90 minutes reviewing lists and variables. Instead, the angle in Weeks 1-3 is about getting you organised, starting to explore the data in a way that's more immediately flexible than using code, and familiarising you with the data we'll be using across the rest of term. \n",
    "\n",
    "In the live coding sessions we will be using Crime data from 2019 for Chicago. In the practical sessions we'll be using Inside Airbnb data for London."
   ]
  },
  {
   "cell_type": "markdown",
   "metadata": {},
   "source": [
    "## Task 1: Creating and Cloning a Repo\n",
    "\n",
    "- Suggest `fsds` as private repo\n",
    "- Clone to local machine\n",
    "- Open and look around."
   ]
  },
  {
   "cell_type": "markdown",
   "metadata": {},
   "source": [
    "## Task 2: Adding Files & Commit\n",
    "\n",
    "- `git status`\n",
    "- Add a notebook file downloaded from i2p\n",
    "  - `git add`\n",
    "  - `git commit`\n",
    "- Now let's look on GitHub.\n",
    "  - Now let's update the README\n",
    "- Try to make a change locally and push it\n",
    "  - Make a change to README\n",
    "  - Try to push\n",
    "  - `git diff`\n",
    "- Merge and resolve.\n",
    "- Push again"
   ]
  },
  {
   "cell_type": "markdown",
   "metadata": {},
   "source": [
    "## Task 3: Investigating a File"
   ]
  },
  {
   "cell_type": "markdown",
   "metadata": {},
   "source": [
    "#### Task 3.1: Download the File\n",
    "\n",
    "Make sure logged in as jreades or huanfa to access: https://github.com/huanfachen/IntroProgramming_2020_Assessment/tree/master/data/src\n",
    "\n",
    "Sample is also available on: https://github.com/jreades/i2p/raw/master/data/src/ without needing login.\n",
    "\n",
    "Download the sample file to `~/Downloads/`"
   ]
  },
  {
   "cell_type": "markdown",
   "metadata": {},
   "source": [
    "#### Task 3.2: Check Names of Files\n",
    "```\n",
    "ls ~/Downloads/*.gz\n",
    "```\n",
    "- Explain the `~`.\n",
    "- Explain the `*`.\n",
    "- Explain the `.gz`."
   ]
  },
  {
   "cell_type": "markdown",
   "metadata": {},
   "source": [
    "#### Task 3.3: How big are the files?\n",
    "```\n",
    "du -sh *.gz\n",
    "```\n",
    "- Ask them to explain the `*.gz`.\n",
    "- What is `du` (Anyone want to guess? You can Google the answer right now!)\n",
    "- How do we figure out what `du` does?\n",
    "  - `man du`... ok, how the hell do I navigate this?\n",
    "    - arrow keys \n",
    "    - space bar\n",
    "    - q to quit\n",
    "    - / to search\n",
    "  - Also, though not in this case, `du --help` is often a good guess for a quick overview of options."
   ]
  },
  {
   "cell_type": "markdown",
   "metadata": {},
   "source": [
    "#### Task 3.4: Moving the file around\n",
    "\n",
    "Move the file to the cloned repo.\n",
    "```\n",
    "mv ~/Downloads/<fn>.gz ~/Documents/<repo>/\n",
    "cd ~/Documents/<repo>/\n",
    "mkdir data\n",
    "mv <fn>.gz data/\n",
    "```\n",
    "- How would we make sense of `mkdir`?\n",
    "- What does `-p` option do? \n",
    "- How did you find it? "
   ]
  },
  {
   "cell_type": "markdown",
   "metadata": {},
   "source": [
    "#### Task 3.5: How many rows are in the data set?\n",
    "\n",
    "- Show them what `open .` does on a Mac.\n",
    "- Decompress a copy of the file (just double-click as compressed file will remain)\n",
    "- Open the copy in Excel.\n",
    "- What are we looking at? \n",
    "  - Discuss\n",
    "  - Notice any issues with the data?\n",
    "    - Date is actually datetime, and some is in 24-hour, others in 12-hour format\n",
    "    - What data types can we see? Think about what you're learning in QM? (_We've got floats \\[both ratio--meaningful zero--and interval\\], integers \\[discrete ids that are not case numbers\\], booleans, categorical..._)\n",
    "    \n",
    "Now back to the file...\n",
    "- How do we count things in a file?\n",
    "  - `wc`\n",
    "- How do we count _lines_ in a file?\n",
    "  - Look it up! `man wc`\n",
    "\n",
    "```\n",
    "wc -l 2019-sample-Crime.csv\n",
    "```"
   ]
  },
  {
   "cell_type": "markdown",
   "metadata": {},
   "source": [
    "#### Task 3.6: What are the names of the columns?\n",
    "\n",
    "Obviously we can look in Excel, but what commands could you use to look at the first line of the file? \n",
    "\n",
    "- We've seen at least two ways to do this in my talk, but can you remember them?\n",
    "\n",
    "```\n",
    "less 2019-sample-Crime.csv\n",
    "```\n",
    "and\n",
    "```\n",
    "head -n 1 2019-sample-Crime.csv\n",
    "```\n",
    "With less, talk through the commands for stepping forwards, backwards, one page down, and quitting. Notice that these are the same as for the `manpage` help we used above with `du`.\n",
    "\n",
    "- How would you get the last 5 lines?\n",
    "```\n",
    "tail -n 5 2019-sample-Crime.csv\n",
    "```\n",
    "\n",
    "- How would you get the 50th to 60th lines?\n",
    "```\n",
    "head -n 60 2019-sample-Crime.csv | tail -n 10\n",
    "```"
   ]
  },
  {
   "cell_type": "markdown",
   "metadata": {},
   "source": [
    "#### Task 3.7: How many 'Narcotics' charges are there?\n",
    "\n",
    "Lead them through the fact that case matters:\n",
    "\n",
    "- Why doesn't this work?\n",
    "```\n",
    "grep \"Narcotics\" 2019-sample-Crime.csv\n",
    "```\n",
    "\n",
    "- How could we get matches for Narcotics?\n",
    "  - Option \\#1: use \"NARCOTICS\"\n",
    "  - Option \\#2: use `-i` or `--ignore-case`\n",
    "  - We get the latter by looking at `man grep`\n",
    "\n",
    "```\n",
    "grep -i \"Narcotics\" 2019-sample-Crime.csv\n",
    "```\n",
    "There should be 7 rows.\n",
    "\n",
    "- Can you figure out how many Narcotics charges there are in the file?\n",
    "  - You've seen how to use the 'pipe' to pass output from head to tail.\n",
    "  - You've seen how to find the rows that match using grep\n",
    "  - You've seen how to count the number of lines\n",
    "  - You need to put these pieces all together.\n",
    "\n",
    "```\n",
    "grep -i \"Narcotics\" 2019-sample-Crime.csv | wc -l\n",
    "```\n",
    "There should be 7 rows."
   ]
  },
  {
   "cell_type": "markdown",
   "metadata": {},
   "source": [
    "#### Task 3.8: How many charges mention values over \\$500?\n",
    "\n",
    "Demonstrate value of escape commands. Let's have a look at the output from:\n",
    "```\n",
    "grep \"$500\" 2019-sample-Crime.csv | wc -l\n",
    "```\n",
    "\n",
    "Now let's try:\n",
    "```\n",
    "grep '$500' 2019-sample-Crime.csv | wc -l\n",
    "```\n",
    "\n",
    "And finally:\n",
    "```\n",
    "grep \"\\$500\" 2019-sample-Crime.csv | wc -l\n",
    "```"
   ]
  },
  {
   "cell_type": "markdown",
   "metadata": {},
   "source": [
    "#### Task 3.9: More Complex Command Chaining\n",
    "\n",
    "Other fun things we can do...\n",
    "\n",
    "- How do we know what types of primary crimes there are in the data?\n",
    "```\n",
    "awk -F',' '{print $4}' 2019-sample-Crime.csv | sort | uniq\n",
    "```\n",
    "\n",
    "- Or how about what types of descriptions there are of Narcotics charges?\n",
    "```\n",
    "grep -i 'Narcotics' 2019-sample-Crime.csv | awk -F',' '{print $5}' | sort | uniq\n",
    "```\n",
    "\n",
    "- Or how may there are of Possession?\n",
    "```\n",
    "grep -i 'Narcotics' 2019-sample-Crime.csv | grep 'POSS' | wc -l\n",
    "```"
   ]
  },
  {
   "cell_type": "markdown",
   "metadata": {},
   "source": [
    "## JupyterLab Demonstration"
   ]
  },
  {
   "cell_type": "markdown",
   "metadata": {},
   "source": [
    "- Starting up\n",
    "- Logging in\n",
    "- Turning on extensions\n",
    "- Looking at what the extensions do\n",
    "  - Especially the toc view\n",
    "  - Variable inspector\n",
    "  - GitPlus (untested)\n",
    "- Creating a notebook\n",
    "- Using the Terminal"
   ]
  }
 ],
 "metadata": {
  "kernelspec": {
   "display_name": "Python 3 (ipykernel)",
   "language": "python",
   "name": "python3"
  },
  "language_info": {
   "codemirror_mode": {
    "name": "ipython",
    "version": 3
   },
   "file_extension": ".py",
   "mimetype": "text/x-python",
   "name": "python",
   "nbconvert_exporter": "python",
   "pygments_lexer": "ipython3",
   "version": "3.10.5"
  }
 },
 "nbformat": 4,
 "nbformat_minor": 4
}
